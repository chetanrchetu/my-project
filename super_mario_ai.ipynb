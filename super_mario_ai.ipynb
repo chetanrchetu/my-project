{
 "cells": [
  {
   "cell_type": "markdown",
   "id": "835c6d12",
   "metadata": {},
   "source": [
    "convention\n",
    "inp==input \n",
    "out==ouput\n",
    "unwanted code block jst for my refernce so the code will be in commented form #"
   ]
  },
  {
   "cell_type": "markdown",
   "id": "02a22bcb",
   "metadata": {},
   "source": [
    "# the main thing is to run this whole program in  python 3.9 \n",
    "# as the many reason is torch supporst this version "
   ]
  },
  {
   "cell_type": "markdown",
   "id": "aebe3ac2",
   "metadata": {},
   "source": [
    "# setting up the mario game in python"
   ]
  },
  {
   "cell_type": "code",
   "execution_count": 1,
   "id": "1fa43611",
   "metadata": {},
   "outputs": [],
   "source": [
    "#import te frame work/lib super_mario_bros\n",
    "import gym_super_mario_bros\n",
    "#import the joypadspace here we have the controls \n",
    "from nes_py.wrappers import JoypadSpace\n",
    "#SIMPLE_MOVEMENT contains simple controlls like 7 of them so we will import them\n",
    "from gym_super_mario_bros.actions import SIMPLE_MOVEMENT"
   ]
  },
  {
   "cell_type": "code",
   "execution_count": 2,
   "id": "f992ef85",
   "metadata": {},
   "outputs": [],
   "source": [
    "# SIMPLE_MOVEMENT  #u can see over here how many controlls we have"
   ]
  },
  {
   "cell_type": "code",
   "execution_count": 3,
   "id": "1b1bcc8c",
   "metadata": {},
   "outputs": [],
   "source": [
    "env=gym_super_mario_bros.make(\"SuperMarioBros-v0\")  #here we are creating a SuperMarioBros-v0 env and binding it to env variable\n",
    "env=JoypadSpace(env,SIMPLE_MOVEMENT)  #and we are binding the keys to environment so that we can use the controls present in joypadspace"
   ]
  },
  {
   "cell_type": "code",
   "execution_count": 4,
   "id": "0360c222",
   "metadata": {},
   "outputs": [],
   "source": [
    "# type(env)  #checking how what type is the variable env\n",
    "#in this case env is nes_py.wrappers.joypad_space.JoypadSpace"
   ]
  },
  {
   "cell_type": "code",
   "execution_count": 5,
   "id": "8fd8441f",
   "metadata": {},
   "outputs": [],
   "source": [
    "# env.action_space  #env.actionp_space it consist of all the 7 actions \n",
    "# env.action_space.sample() #this will provide us random move so we use this for random movement of the character"
   ]
  },
  {
   "cell_type": "code",
   "execution_count": 6,
   "id": "3258e873",
   "metadata": {},
   "outputs": [],
   "source": [
    "# env.observation_space.shape  #this is were the info of  change frame is recived like if a character moves thats a different frame ryt so that frame is store as an np array/in the form of matrix\n",
    "\n",
    "#we will use this info to process it later\n",
    "\n",
    "#in simple terms as the frame changes the changed frame is collect over here in the form of matrix\n",
    "\n",
    "#out=>(240, 256, 3) means we are getting the out of 240x256 pixel with 3 layers(means rgb)"
   ]
  },
  {
   "cell_type": "code",
   "execution_count": 7,
   "id": "29deb30e",
   "metadata": {},
   "outputs": [],
   "source": [
    "# env.action_space  #out: Discrete(7) means have 7 moves \n",
    "#and those are the moves present in SIMPLE_MOVEMENT"
   ]
  },
  {
   "cell_type": "code",
   "execution_count": 8,
   "id": "3d3ce691",
   "metadata": {},
   "outputs": [],
   "source": [
    "# SIMPLE_MOVEMENT"
   ]
  },
  {
   "cell_type": "code",
   "execution_count": 9,
   "id": "610e9603",
   "metadata": {},
   "outputs": [],
   "source": [
    "# SIMPLE_MOVEMENT[env.action_space.sample()]"
   ]
  },
  {
   "cell_type": "code",
   "execution_count": 10,
   "id": "50d327e8",
   "metadata": {},
   "outputs": [
    {
     "ename": "KeyboardInterrupt",
     "evalue": "",
     "output_type": "error",
     "traceback": [
      "\u001b[1;31m---------------------------------------------------------------------------\u001b[0m",
      "\u001b[1;31mKeyboardInterrupt\u001b[0m                         Traceback (most recent call last)",
      "Cell \u001b[1;32mIn[10], line 13\u001b[0m\n\u001b[0;32m     10\u001b[0m         env\u001b[38;5;241m.\u001b[39mreset()\n\u001b[0;32m     12\u001b[0m     state,reward,done,info\u001b[38;5;241m=\u001b[39menv\u001b[38;5;241m.\u001b[39mstep(env\u001b[38;5;241m.\u001b[39maction_space\u001b[38;5;241m.\u001b[39msample()) \u001b[38;5;66;03m#env.step() allows us to take the step in our game like move left up etc #env.action_space.sample() allows us to take random actions\u001b[39;00m\n\u001b[1;32m---> 13\u001b[0m     \u001b[43menv\u001b[49m\u001b[38;5;241;43m.\u001b[39;49m\u001b[43mrender\u001b[49m\u001b[43m(\u001b[49m\u001b[43m)\u001b[49m \u001b[38;5;66;03m#allows us to show the game on the screeen\u001b[39;00m\n\u001b[0;32m     15\u001b[0m env\u001b[38;5;241m.\u001b[39mclose()\n",
      "File \u001b[1;32mc:\\python\\python39\\lib\\site-packages\\gym\\core.py:240\u001b[0m, in \u001b[0;36mWrapper.render\u001b[1;34m(self, mode, **kwargs)\u001b[0m\n\u001b[0;32m    239\u001b[0m \u001b[38;5;28;01mdef\u001b[39;00m \u001b[38;5;21mrender\u001b[39m(\u001b[38;5;28mself\u001b[39m, mode\u001b[38;5;241m=\u001b[39m\u001b[38;5;124m'\u001b[39m\u001b[38;5;124mhuman\u001b[39m\u001b[38;5;124m'\u001b[39m, \u001b[38;5;241m*\u001b[39m\u001b[38;5;241m*\u001b[39mkwargs):\n\u001b[1;32m--> 240\u001b[0m     \u001b[38;5;28;01mreturn\u001b[39;00m \u001b[38;5;28mself\u001b[39m\u001b[38;5;241m.\u001b[39menv\u001b[38;5;241m.\u001b[39mrender(mode, \u001b[38;5;241m*\u001b[39m\u001b[38;5;241m*\u001b[39mkwargs)\n",
      "File \u001b[1;32mc:\\python\\python39\\lib\\site-packages\\gym\\core.py:240\u001b[0m, in \u001b[0;36mWrapper.render\u001b[1;34m(self, mode, **kwargs)\u001b[0m\n\u001b[0;32m    239\u001b[0m \u001b[38;5;28;01mdef\u001b[39;00m \u001b[38;5;21mrender\u001b[39m(\u001b[38;5;28mself\u001b[39m, mode\u001b[38;5;241m=\u001b[39m\u001b[38;5;124m'\u001b[39m\u001b[38;5;124mhuman\u001b[39m\u001b[38;5;124m'\u001b[39m, \u001b[38;5;241m*\u001b[39m\u001b[38;5;241m*\u001b[39mkwargs):\n\u001b[1;32m--> 240\u001b[0m     \u001b[38;5;28;01mreturn\u001b[39;00m \u001b[38;5;28mself\u001b[39m\u001b[38;5;241m.\u001b[39menv\u001b[38;5;241m.\u001b[39mrender(mode, \u001b[38;5;241m*\u001b[39m\u001b[38;5;241m*\u001b[39mkwargs)\n",
      "File \u001b[1;32mc:\\python\\python39\\lib\\site-packages\\nes_py\\nes_env.py:386\u001b[0m, in \u001b[0;36mNESEnv.render\u001b[1;34m(self, mode)\u001b[0m\n\u001b[0;32m    380\u001b[0m         \u001b[38;5;28mself\u001b[39m\u001b[38;5;241m.\u001b[39mviewer \u001b[38;5;241m=\u001b[39m ImageViewer(\n\u001b[0;32m    381\u001b[0m             caption\u001b[38;5;241m=\u001b[39mcaption,\n\u001b[0;32m    382\u001b[0m             height\u001b[38;5;241m=\u001b[39mSCREEN_HEIGHT,\n\u001b[0;32m    383\u001b[0m             width\u001b[38;5;241m=\u001b[39mSCREEN_WIDTH,\n\u001b[0;32m    384\u001b[0m         )\n\u001b[0;32m    385\u001b[0m     \u001b[38;5;66;03m# show the screen on the image viewer\u001b[39;00m\n\u001b[1;32m--> 386\u001b[0m     \u001b[38;5;28;43mself\u001b[39;49m\u001b[38;5;241;43m.\u001b[39;49m\u001b[43mviewer\u001b[49m\u001b[38;5;241;43m.\u001b[39;49m\u001b[43mshow\u001b[49m\u001b[43m(\u001b[49m\u001b[38;5;28;43mself\u001b[39;49m\u001b[38;5;241;43m.\u001b[39;49m\u001b[43mscreen\u001b[49m\u001b[43m)\u001b[49m\n\u001b[0;32m    387\u001b[0m \u001b[38;5;28;01melif\u001b[39;00m mode \u001b[38;5;241m==\u001b[39m \u001b[38;5;124m'\u001b[39m\u001b[38;5;124mrgb_array\u001b[39m\u001b[38;5;124m'\u001b[39m:\n\u001b[0;32m    388\u001b[0m     \u001b[38;5;28;01mreturn\u001b[39;00m \u001b[38;5;28mself\u001b[39m\u001b[38;5;241m.\u001b[39mscreen\n",
      "File \u001b[1;32mc:\\python\\python39\\lib\\site-packages\\nes_py\\_image_viewer.py:149\u001b[0m, in \u001b[0;36mImageViewer.show\u001b[1;34m(self, frame)\u001b[0m\n\u001b[0;32m    147\u001b[0m \u001b[38;5;66;03m# send the image to the window\u001b[39;00m\n\u001b[0;32m    148\u001b[0m image\u001b[38;5;241m.\u001b[39mblit(\u001b[38;5;241m0\u001b[39m, \u001b[38;5;241m0\u001b[39m, width\u001b[38;5;241m=\u001b[39m\u001b[38;5;28mself\u001b[39m\u001b[38;5;241m.\u001b[39m_window\u001b[38;5;241m.\u001b[39mwidth, height\u001b[38;5;241m=\u001b[39m\u001b[38;5;28mself\u001b[39m\u001b[38;5;241m.\u001b[39m_window\u001b[38;5;241m.\u001b[39mheight)\n\u001b[1;32m--> 149\u001b[0m \u001b[38;5;28;43mself\u001b[39;49m\u001b[38;5;241;43m.\u001b[39;49m\u001b[43m_window\u001b[49m\u001b[38;5;241;43m.\u001b[39;49m\u001b[43mflip\u001b[49m\u001b[43m(\u001b[49m\u001b[43m)\u001b[49m\n",
      "File \u001b[1;32mc:\\python\\python39\\lib\\site-packages\\pyglet\\window\\win32\\__init__.py:338\u001b[0m, in \u001b[0;36mWin32Window.flip\u001b[1;34m(self)\u001b[0m\n\u001b[0;32m    335\u001b[0m         \u001b[38;5;28;01mif\u001b[39;00m \u001b[38;5;28mself\u001b[39m\u001b[38;5;241m.\u001b[39m_interval:\n\u001b[0;32m    336\u001b[0m             _dwmapi\u001b[38;5;241m.\u001b[39mDwmFlush()\n\u001b[1;32m--> 338\u001b[0m \u001b[38;5;28;43mself\u001b[39;49m\u001b[38;5;241;43m.\u001b[39;49m\u001b[43mcontext\u001b[49m\u001b[38;5;241;43m.\u001b[39;49m\u001b[43mflip\u001b[49m\u001b[43m(\u001b[49m\u001b[43m)\u001b[49m\n",
      "File \u001b[1;32mc:\\python\\python39\\lib\\site-packages\\pyglet\\gl\\win32.py:252\u001b[0m, in \u001b[0;36mWin32Context.flip\u001b[1;34m(self)\u001b[0m\n\u001b[0;32m    251\u001b[0m \u001b[38;5;28;01mdef\u001b[39;00m \u001b[38;5;21mflip\u001b[39m(\u001b[38;5;28mself\u001b[39m):\n\u001b[1;32m--> 252\u001b[0m     \u001b[43m_gdi32\u001b[49m\u001b[38;5;241;43m.\u001b[39;49m\u001b[43mSwapBuffers\u001b[49m\u001b[43m(\u001b[49m\u001b[38;5;28;43mself\u001b[39;49m\u001b[38;5;241;43m.\u001b[39;49m\u001b[43mcanvas\u001b[49m\u001b[38;5;241;43m.\u001b[39;49m\u001b[43mhdc\u001b[49m\u001b[43m)\u001b[49m\n",
      "\u001b[1;31mKeyboardInterrupt\u001b[0m: "
     ]
    }
   ],
   "source": [
    "#here we are using the flage varible this tells to restart the game or not \n",
    "done=True\n",
    "\n",
    "#here we are looping through the whole frame\n",
    "#like if their is any change in the frame we click a button\n",
    "for steps in range(100000):\n",
    "    #start the game to begin with \n",
    "    if done:\n",
    "        #start the game\n",
    "        env.reset()\n",
    "        \n",
    "    state,reward,done,info=env.step(env.action_space.sample()) #env.step() allows us to take the step in our game like move left up etc #env.action_space.sample() allows us to take random actions\n",
    "    env.render() #allows us to show the game on the screeen\n",
    "    \n",
    "env.close()"
   ]
  },
  {
   "cell_type": "code",
   "execution_count": 11,
   "id": "e133a263",
   "metadata": {},
   "outputs": [],
   "source": [
    "env.close() #to close the program"
   ]
  },
  {
   "cell_type": "code",
   "execution_count": 12,
   "id": "507bbe22",
   "metadata": {},
   "outputs": [],
   "source": [
    "# state=env.reset()  #the values that we get back from env.reset is called state"
   ]
  },
  {
   "cell_type": "code",
   "execution_count": 13,
   "id": "c18a8a99",
   "metadata": {},
   "outputs": [],
   "source": [
    "# state  #state  is the frame that we get back from the game\n",
    "# state.shape  #out->(240, 256, 3) so you can see this is a size of a frame"
   ]
  },
  {
   "cell_type": "code",
   "execution_count": 14,
   "id": "62503a16",
   "metadata": {},
   "outputs": [],
   "source": [
    "# len(env.step(1))  #when we run the env.step we get for things back those are state,reward,done , info"
   ]
  },
  {
   "cell_type": "code",
   "execution_count": 15,
   "id": "40318409",
   "metadata": {},
   "outputs": [],
   "source": [
    "# s=env.step(1) #here i have stored it to a variable called s\n"
   ]
  },
  {
   "cell_type": "code",
   "execution_count": 16,
   "id": "4021b7ea",
   "metadata": {},
   "outputs": [],
   "source": [
    "# s[0] #1st:- state if we jump what we are gonna get is the frame when mario jumps\n",
    "# s[1] #2nd - reward this like telling if we have got a point or not for the action done\n",
    "# s[2] #3rd - somthing boolen\n",
    "# s[3] #4rd - we get some info like the number of coins and etc \n"
   ]
  },
  {
   "cell_type": "markdown",
   "id": "959e3c18",
   "metadata": {},
   "source": [
    "# preprocessing the environment"
   ]
  },
  {
   "cell_type": "code",
   "execution_count": 17,
   "id": "d2d8a6da",
   "metadata": {},
   "outputs": [],
   "source": [
    "#install pytorch \n",
    "# using this command to install torch\n",
    "# pip3 install torch torchvision torchaudio"
   ]
  },
  {
   "cell_type": "markdown",
   "id": "321832ef",
   "metadata": {},
   "source": [
    "here we will encounter an error if out pip is not in the version 21.3.1\n",
    "use this\n",
    "*c:\\python\\python39\\python.exe -m pip install pip==21.3.1*\n"
   ]
  },
  {
   "cell_type": "code",
   "execution_count": 18,
   "id": "e5beb580",
   "metadata": {},
   "outputs": [],
   "source": [
    "# and we have to install stable baseline3\n",
    "# using the command \n",
    "# stable baseline3[extra]"
   ]
  },
  {
   "cell_type": "code",
   "execution_count": 19,
   "id": "b484e5bf",
   "metadata": {},
   "outputs": [
    {
     "name": "stderr",
     "output_type": "stream",
     "text": [
      "c:\\python\\python39\\lib\\site-packages\\tqdm\\auto.py:22: TqdmWarning: IProgress not found. Please update jupyter and ipywidgets. See https://ipywidgets.readthedocs.io/en/stable/user_install.html\n",
      "  from .autonotebook import tqdm as notebook_tqdm\n"
     ]
    }
   ],
   "source": [
    "#import frane stacker wrapper and grayscaling wrapper  for stacking the gray scaled image on top of one another and grayscaling wrapper for converting the colored frame to grayscale\n",
    "from gym.wrappers import GrayScaleObservation\n",
    "\n",
    "#import vectorization wrappers\n",
    "from stable_baselines3.common.vec_env import VecFrameStack,DummyVecEnv  #vecframestack allows us to work with framestack and dummyvecenv helps us wrap the  base env inside vectorization wrapper\n",
    "\n",
    "#import matplotlib  used for showing the impact of frame stacking \n",
    "\n",
    "import matplotlib.pyplot as plt"
   ]
  },
  {
   "cell_type": "code",
   "execution_count": 11,
   "id": "559b1b67",
   "metadata": {},
   "outputs": [],
   "source": [
    "#now we wrapp our model"
   ]
  },
  {
   "cell_type": "code",
   "execution_count": 20,
   "id": "fa433a37",
   "metadata": {},
   "outputs": [],
   "source": [
    "#create the base  environment\n",
    "env=gym_super_mario_bros.make(\"SuperMarioBros-v0\") \n",
    "#simplfy our controls\n",
    "env=JoypadSpace(env,SIMPLE_MOVEMENT)\n",
    "\n",
    "#grayscale\n",
    "env=GrayScaleObservation(env,keep_dim=True) #here keep_dim=True is important for frame stacking\n",
    "\n",
    "#wrap it inside dummy env\n",
    "env=DummyVecEnv([lambda :env])\n",
    "\n",
    "#stack the frames\n",
    "env=VecFrameStack(env,4,channels_order='last')  #here the nummber 4 denotes the number of frame we wanna stack on each other"
   ]
  },
  {
   "cell_type": "code",
   "execution_count": 21,
   "id": "45b98472",
   "metadata": {},
   "outputs": [],
   "source": [
    "state=env.reset()"
   ]
  },
  {
   "cell_type": "code",
   "execution_count": 22,
   "id": "c319981a",
   "metadata": {},
   "outputs": [
    {
     "data": {
      "text/plain": [
       "(1, 240, 256, 4)"
      ]
     },
     "execution_count": 22,
     "metadata": {},
     "output_type": "execute_result"
    }
   ],
   "source": [
    "state.shape  #here  (240, 256, 1) previously we had 3 channel(rgb) now after wrapping it up with the grayscaleobservation  the channel number has become 1 which means it is downscaled to grayscaled image\n",
    "\n",
    "#after wrapping the env in dummy env we get  (1, 240, 256, 4) the last number is changed from 1 to 4\n",
    "\n",
    "#means we have 4 different grayscaled images stacked togther"
   ]
  },
  {
   "cell_type": "code",
   "execution_count": 23,
   "id": "0cef761d",
   "metadata": {},
   "outputs": [],
   "source": [
    "# 240*256*1==61440\n",
    "\n",
    "# here we have 61440 pixels to process when grayscaled\n",
    "\n",
    "# 240*256*3==184320 \n",
    "\n",
    "#when we dont grayscale we have 184320 to process\n",
    "\n"
   ]
  },
  {
   "cell_type": "code",
   "execution_count": 24,
   "id": "d67d8b59",
   "metadata": {},
   "outputs": [],
   "source": [
    "state,reward,done,info=env.step([env.action_space.sample()])   #taking random steps like jump,left etc...\n",
    "# print(state[0])"
   ]
  },
  {
   "cell_type": "code",
   "execution_count": 25,
   "id": "7363abc7",
   "metadata": {},
   "outputs": [],
   "source": [
    "#here we are running the env.step() 20 times so we can visulaize the change in the frame\n",
    "\n",
    "\n",
    "for i in range(20):\n",
    "    state,reward,done,info=env.step([5])"
   ]
  },
  {
   "cell_type": "code",
   "execution_count": 26,
   "id": "c8b5a0f1",
   "metadata": {},
   "outputs": [
    {
     "data": {
      "image/png": "[encoded data removed]",
      "text/plain": [
       "<Figure size 1000x800 with 4 Axes>"
      ]
     },
     "metadata": {},
     "output_type": "display_data"
    }
   ],
   "source": [
    "#visulalizing a lit bit better\n",
    "plt.figure(figsize=(10,8))\n",
    "for idx in range(state.shape[3]):  #here the state.shape[3]==4 means we have stacked 4 images on top of each one so we need to visulaize that part\n",
    "    plt.subplot(1,4,idx+1)  #1,4 means the frame 1 to 4 to be loaded and shown at a time\n",
    "    plt.imshow(state[0][:,:,idx])\n",
    "\n",
    "plt.show()\n",
    "    "
   ]
  },
  {
   "cell_type": "code",
   "execution_count": 27,
   "id": "9afd20a1",
   "metadata": {},
   "outputs": [
    {
     "data": {
      "text/plain": [
       "<matplotlib.image.AxesImage at 0x1fbee7effd0>"
      ]
     },
     "execution_count": 27,
     "metadata": {},
     "output_type": "execute_result"
    },
    {
     "data": {
      "image/png": "[encoded data removed]",
      "text/plain": [
       "<Figure size 640x480 with 1 Axes>"
      ]
     },
     "metadata": {},
     "output_type": "display_data"
    }
   ],
   "source": [
    "\n",
    "#using matplot lib to show the frame\n",
    "plt.imshow(state[0])\n",
    "#here we are seeing the grayscaled image"
   ]
  },
  {
   "cell_type": "markdown",
   "id": "9e35ff51",
   "metadata": {},
   "source": [
    "# trainig the game using reinforcement learning\n"
   ]
  },
  {
   "cell_type": "markdown",
   "id": "044aeaa3",
   "metadata": {},
   "source": [
    "agent:mario<br>reward:points<br>environment:game<br>action:steps"
   ]
  },
  {
   "cell_type": "markdown",
   "id": "ffcfe024",
   "metadata": {},
   "source": [
    "here we are gonna the reinforcement learning algo is ppo:proximal policy optimization"
   ]
  },
  {
   "cell_type": "code",
   "execution_count": 29,
   "id": "29d8ac3c",
   "metadata": {},
   "outputs": [],
   "source": [
    "#import os \n",
    "import os \n",
    "#import ppo\n",
    "from stable_baselines3 import PPO  #this the algorithm\n",
    "#import base callback for saving madels\n",
    "from stable_baselines3.common.callbacks import BaseCallback  #this is used for saving the model"
   ]
  },
  {
   "cell_type": "markdown",
   "id": "7e1fd6ef",
   "metadata": {},
   "source": [
    "### this below code is optional but it is used for saving the model every few steps later"
   ]
  },
  {
   "cell_type": "code",
   "execution_count": 20,
   "id": "cc60c0f1",
   "metadata": {},
   "outputs": [],
   "source": [
    "class TrainAndLoggingCallback(BaseCallback):\n",
    "\n",
    "    def __init__(self, check_freq, save_path, verbose=1):   #check_freq is for how frequent we are gonna save the model, save_path were we are gonna save the model\n",
    "        super(TrainAndLoggingCallback, self).__init__(verbose)\n",
    "        self.check_freq = check_freq\n",
    "        self.save_path = save_path\n",
    "\n",
    "    def _init_callback(self):\n",
    "        if self.save_path is not None:\n",
    "            os.makedirs(self.save_path, exist_ok=True)\n",
    "\n",
    "    def _on_step(self):\n",
    "        if self.n_calls % self.check_freq == 0:\n",
    "            model_path = os.path.join(self.save_path, 'best_model_{}'.format(self.n_calls))\n",
    "            self.model.save(model_path)\n",
    "\n",
    "        return True"
   ]
  },
  {
   "cell_type": "code",
   "execution_count": 21,
   "id": "53bfb57b",
   "metadata": {},
   "outputs": [],
   "source": [
    "#set up some directory where we are gonna save our model\n",
    "CHECKPOINT_DIR=\"./train/\"  #and eveytime we train we get a new checkpoint \n",
    "LOG_DIR=\"./logs/\"   #eveytime we run the algo we create a new log "
   ]
  },
  {
   "cell_type": "code",
   "execution_count": 22,
   "id": "a7002844",
   "metadata": {},
   "outputs": [],
   "source": [
    "#setup model saving callback\n",
    "callback=TrainAndLoggingCallback(check_freq=10,save_path=CHECKPOINT_DIR)  #for every 10000 steps we are gonna save the model"
   ]
  },
  {
   "cell_type": "code",
   "execution_count": 23,
   "id": "1d4d382e",
   "metadata": {},
   "outputs": [
    {
     "name": "stdout",
     "output_type": "stream",
     "text": [
      "Using cpu device\n",
      "Wrapping the env in a VecTransposeImage.\n"
     ]
    }
   ],
   "source": [
    "#here the model we are gonna use is ppo\n",
    "model=PPO(\"CnnPolicy\",env,verbose=1,tensorboard_log=LOG_DIR,learning_rate=0.000001,\n",
    "         n_steps=512)\n",
    "\n",
    "#the above line has created a tempory model"
   ]
  },
  {
   "cell_type": "markdown",
   "id": "1d748cf6",
   "metadata": {},
   "source": [
    "#create the base  environment<br>\n",
    "env=gym_super_mario_bros.make(\"SuperMarioBros-v0\") <br>\n",
    "#simplfy our controls<br>\n",
    "env=JoypadSpace(env,SIMPLE_MOVEMENT)<br>\n",
    "\n",
    "#grayscale<br>\n",
    "env=GrayScaleObservation(env,keep_dim=True) #here keep_dim=True is important for frame stacking<br>\n",
    "\n",
    "#wrap it inside dummy env<br>\n",
    "env=DummyVecEnv([lambda :env])<br>\n",
    "\n",
    "#stack the frames<br>\n",
    "env=VecFrameStack(env,4,channels_order='last')<br>\n",
    "\n",
    "this is gonna be our preprocessed data that we are gonna feed to our model"
   ]
  },
  {
   "cell_type": "markdown",
   "id": "19fadb86",
   "metadata": {},
   "source": [
    "### this is for what is total_timesteps\n",
    "Suppose we set total_timesteps to 1,000,000 for this training process. This means that the agent will interact with the environment and take actions for 1,000,000 timesteps or until the end of the game, whichever comes first. During each timestep, the agent will observe the game screen, take an action (move the paddle up or down), and receive a reward (positive or negative depending on whether it hits the ball or misses)."
   ]
  },
  {
   "cell_type": "code",
   "execution_count": 25,
   "id": "207acc94",
   "metadata": {},
   "outputs": [
    {
     "name": "stdout",
     "output_type": "stream",
     "text": [
      "Logging to ./logs/PPO_1\n",
      "----------------------------\n",
      "| time/              |     |\n",
      "|    fps             | 1   |\n",
      "|    iterations      | 1   |\n",
      "|    time_elapsed    | 337 |\n",
      "|    total_timesteps | 512 |\n",
      "----------------------------\n"
     ]
    },
    {
     "data": {
      "text/plain": [
       "<stable_baselines3.ppo.ppo.PPO at 0x2064ac8d670>"
      ]
     },
     "execution_count": 25,
     "metadata": {},
     "output_type": "execute_result"
    }
   ],
   "source": [
    "#here we train the model ,this is where the model learns \n",
    "model.learn(total_timesteps=50,callback=callback)"
   ]
  },
  {
   "cell_type": "code",
   "execution_count": 26,
   "id": "3472f414",
   "metadata": {},
   "outputs": [],
   "source": [
    "#if we want to save the existing model we can do the below\n",
    "model.save(\"thisislatestmodel\")"
   ]
  },
  {
   "cell_type": "markdown",
   "id": "d17f6d90",
   "metadata": {},
   "source": [
    "# now load the lastest ppo model that is trained"
   ]
  },
  {
   "cell_type": "code",
   "execution_count": 33,
   "id": "454ab28c",
   "metadata": {},
   "outputs": [
    {
     "ename": "AttributeError",
     "evalue": "Can't get attribute 'RandomNumberGenerator._generator_ctor' on <module 'gym.utils.seeding' from 'c:\\\\python\\\\python39\\\\lib\\\\site-packages\\\\gym\\\\utils\\\\seeding.py'>",
     "output_type": "error",
     "traceback": [
      "\u001b[1;31m---------------------------------------------------------------------------\u001b[0m",
      "\u001b[1;31mAttributeError\u001b[0m                            Traceback (most recent call last)",
      "Cell \u001b[1;32mIn[33], line 1\u001b[0m\n\u001b[1;32m----> 1\u001b[0m model\u001b[38;5;241m=\u001b[39m\u001b[43mPPO\u001b[49m\u001b[38;5;241;43m.\u001b[39;49m\u001b[43mload\u001b[49m\u001b[43m(\u001b[49m\u001b[38;5;124;43m\"\u001b[39;49m\u001b[38;5;124;43m./latestmodel.zip\u001b[39;49m\u001b[38;5;124;43m\"\u001b[39;49m\u001b[43m)\u001b[49m\n",
      "File \u001b[1;32mc:\\python\\python39\\lib\\site-packages\\stable_baselines3\\common\\base_class.py:687\u001b[0m, in \u001b[0;36mBaseAlgorithm.load\u001b[1;34m(cls, path, env, device, custom_objects, print_system_info, force_reset, **kwargs)\u001b[0m\n\u001b[0;32m    684\u001b[0m     \u001b[38;5;28mprint\u001b[39m(\u001b[38;5;124m\"\u001b[39m\u001b[38;5;124m== CURRENT SYSTEM INFO ==\u001b[39m\u001b[38;5;124m\"\u001b[39m)\n\u001b[0;32m    685\u001b[0m     get_system_info()\n\u001b[1;32m--> 687\u001b[0m data, params, pytorch_variables \u001b[38;5;241m=\u001b[39m \u001b[43mload_from_zip_file\u001b[49m\u001b[43m(\u001b[49m\n\u001b[0;32m    688\u001b[0m \u001b[43m    \u001b[49m\u001b[43mpath\u001b[49m\u001b[43m,\u001b[49m\u001b[43m \u001b[49m\u001b[43mdevice\u001b[49m\u001b[38;5;241;43m=\u001b[39;49m\u001b[43mdevice\u001b[49m\u001b[43m,\u001b[49m\u001b[43m \u001b[49m\u001b[43mcustom_objects\u001b[49m\u001b[38;5;241;43m=\u001b[39;49m\u001b[43mcustom_objects\u001b[49m\u001b[43m,\u001b[49m\u001b[43m \u001b[49m\u001b[43mprint_system_info\u001b[49m\u001b[38;5;241;43m=\u001b[39;49m\u001b[43mprint_system_info\u001b[49m\n\u001b[0;32m    689\u001b[0m \u001b[43m\u001b[49m\u001b[43m)\u001b[49m\n\u001b[0;32m    691\u001b[0m \u001b[38;5;66;03m# Remove stored device information and replace with ours\u001b[39;00m\n\u001b[0;32m    692\u001b[0m \u001b[38;5;28;01mif\u001b[39;00m \u001b[38;5;124m\"\u001b[39m\u001b[38;5;124mpolicy_kwargs\u001b[39m\u001b[38;5;124m\"\u001b[39m \u001b[38;5;129;01min\u001b[39;00m data:\n",
      "File \u001b[1;32mc:\\python\\python39\\lib\\site-packages\\stable_baselines3\\common\\save_util.py:419\u001b[0m, in \u001b[0;36mload_from_zip_file\u001b[1;34m(load_path, load_data, custom_objects, device, verbose, print_system_info)\u001b[0m\n\u001b[0;32m    415\u001b[0m \u001b[38;5;28;01mif\u001b[39;00m \u001b[38;5;124m\"\u001b[39m\u001b[38;5;124mdata\u001b[39m\u001b[38;5;124m\"\u001b[39m \u001b[38;5;129;01min\u001b[39;00m namelist \u001b[38;5;129;01mand\u001b[39;00m load_data:\n\u001b[0;32m    416\u001b[0m     \u001b[38;5;66;03m# Load class parameters that are stored\u001b[39;00m\n\u001b[0;32m    417\u001b[0m     \u001b[38;5;66;03m# with either JSON or pickle (not PyTorch variables).\u001b[39;00m\n\u001b[0;32m    418\u001b[0m     json_data \u001b[38;5;241m=\u001b[39m archive\u001b[38;5;241m.\u001b[39mread(\u001b[38;5;124m\"\u001b[39m\u001b[38;5;124mdata\u001b[39m\u001b[38;5;124m\"\u001b[39m)\u001b[38;5;241m.\u001b[39mdecode()\n\u001b[1;32m--> 419\u001b[0m     data \u001b[38;5;241m=\u001b[39m \u001b[43mjson_to_data\u001b[49m\u001b[43m(\u001b[49m\u001b[43mjson_data\u001b[49m\u001b[43m,\u001b[49m\u001b[43m \u001b[49m\u001b[43mcustom_objects\u001b[49m\u001b[38;5;241;43m=\u001b[39;49m\u001b[43mcustom_objects\u001b[49m\u001b[43m)\u001b[49m\n\u001b[0;32m    421\u001b[0m \u001b[38;5;66;03m# Check for all .pth files and load them using th.load.\u001b[39;00m\n\u001b[0;32m    422\u001b[0m \u001b[38;5;66;03m# \"pytorch_variables.pth\" stores PyTorch variables, and any other .pth\u001b[39;00m\n\u001b[0;32m    423\u001b[0m \u001b[38;5;66;03m# files store state_dicts of variables with custom names (e.g. policy, policy.optimizer)\u001b[39;00m\n\u001b[0;32m    424\u001b[0m pth_files \u001b[38;5;241m=\u001b[39m [file_name \u001b[38;5;28;01mfor\u001b[39;00m file_name \u001b[38;5;129;01min\u001b[39;00m namelist \u001b[38;5;28;01mif\u001b[39;00m os\u001b[38;5;241m.\u001b[39mpath\u001b[38;5;241m.\u001b[39msplitext(file_name)[\u001b[38;5;241m1\u001b[39m] \u001b[38;5;241m==\u001b[39m \u001b[38;5;124m\"\u001b[39m\u001b[38;5;124m.pth\u001b[39m\u001b[38;5;124m\"\u001b[39m]\n",
      "File \u001b[1;32mc:\\python\\python39\\lib\\site-packages\\stable_baselines3\\common\\save_util.py:164\u001b[0m, in \u001b[0;36mjson_to_data\u001b[1;34m(json_string, custom_objects)\u001b[0m\n\u001b[0;32m    162\u001b[0m \u001b[38;5;28;01mtry\u001b[39;00m:\n\u001b[0;32m    163\u001b[0m     base64_object \u001b[38;5;241m=\u001b[39m base64\u001b[38;5;241m.\u001b[39mb64decode(serialization\u001b[38;5;241m.\u001b[39mencode())\n\u001b[1;32m--> 164\u001b[0m     deserialized_object \u001b[38;5;241m=\u001b[39m \u001b[43mcloudpickle\u001b[49m\u001b[38;5;241;43m.\u001b[39;49m\u001b[43mloads\u001b[49m\u001b[43m(\u001b[49m\u001b[43mbase64_object\u001b[49m\u001b[43m)\u001b[49m\n\u001b[0;32m    165\u001b[0m \u001b[38;5;28;01mexcept\u001b[39;00m (\u001b[38;5;167;01mRuntimeError\u001b[39;00m, \u001b[38;5;167;01mTypeError\u001b[39;00m):\n\u001b[0;32m    166\u001b[0m     warnings\u001b[38;5;241m.\u001b[39mwarn(\n\u001b[0;32m    167\u001b[0m         \u001b[38;5;124mf\u001b[39m\u001b[38;5;124m\"\u001b[39m\u001b[38;5;124mCould not deserialize object \u001b[39m\u001b[38;5;132;01m{\u001b[39;00mdata_key\u001b[38;5;132;01m}\u001b[39;00m\u001b[38;5;124m. \u001b[39m\u001b[38;5;124m\"\u001b[39m\n\u001b[0;32m    168\u001b[0m         \u001b[38;5;241m+\u001b[39m \u001b[38;5;124m\"\u001b[39m\u001b[38;5;124mConsider using `custom_objects` argument to replace \u001b[39m\u001b[38;5;124m\"\u001b[39m\n\u001b[0;32m    169\u001b[0m         \u001b[38;5;241m+\u001b[39m \u001b[38;5;124m\"\u001b[39m\u001b[38;5;124mthis object.\u001b[39m\u001b[38;5;124m\"\u001b[39m\n\u001b[0;32m    170\u001b[0m     )\n",
      "\u001b[1;31mAttributeError\u001b[0m: Can't get attribute 'RandomNumberGenerator._generator_ctor' on <module 'gym.utils.seeding' from 'c:\\\\python\\\\python39\\\\lib\\\\site-packages\\\\gym\\\\utils\\\\seeding.py'>"
     ]
    }
   ],
   "source": [
    "model=PPO.load(\"./latestmodel.zip\")"
   ]
  },
  {
   "cell_type": "code",
   "execution_count": 30,
   "id": "677bae34",
   "metadata": {},
   "outputs": [],
   "source": [
    "# state=env.reset()  #start the env by reseting everything"
   ]
  },
  {
   "cell_type": "code",
   "execution_count": 40,
   "id": "cc66e6e0",
   "metadata": {},
   "outputs": [
    {
     "data": {
      "text/plain": [
       "['right']"
      ]
     },
     "execution_count": 40,
     "metadata": {},
     "output_type": "execute_result"
    }
   ],
   "source": [
    "# SIMPLE_MOVEMENT[model.predict(state)[0][0]]  #Now for that state we are passing it to the model which is trained  this is will return a number which will correspond to the move that has to be taken in SIMPLE_MOVEMENT\""
   ]
  },
  {
   "cell_type": "code",
   "execution_count": 45,
   "id": "c9a2f2cd",
   "metadata": {},
   "outputs": [],
   "source": [
    "# model.predict(state)[1]"
   ]
  },
  {
   "cell_type": "code",
   "execution_count": 28,
   "id": "5812beb6",
   "metadata": {},
   "outputs": [
    {
     "ename": "KeyboardInterrupt",
     "evalue": "",
     "output_type": "error",
     "traceback": [
      "\u001b[1;31m---------------------------------------------------------------------------\u001b[0m",
      "\u001b[1;31mKeyboardInterrupt\u001b[0m                         Traceback (most recent call last)",
      "Cell \u001b[1;32mIn[28], line 7\u001b[0m\n\u001b[0;32m      5\u001b[0m action,_\u001b[38;5;241m=\u001b[39mmodel\u001b[38;5;241m.\u001b[39mpredict(state)  \u001b[38;5;66;03m#the model will predict and return a number corresponding to the move to be taken in SIMPLE_MOVEMENT\u001b[39;00m\n\u001b[0;32m      6\u001b[0m \u001b[38;5;66;03m#and it will return another value and i dnt know wt it is and it is not important \u001b[39;00m\n\u001b[1;32m----> 7\u001b[0m state,reward,done,info\u001b[38;5;241m=\u001b[39m\u001b[43menv\u001b[49m\u001b[38;5;241;43m.\u001b[39;49m\u001b[43mstep\u001b[49m\u001b[43m(\u001b[49m\u001b[43maction\u001b[49m\u001b[43m)\u001b[49m  \u001b[38;5;66;03m#the action to be taken is sent to the env.step which will change the frame by taking that predicted step\u001b[39;00m\n\u001b[0;32m      8\u001b[0m env\u001b[38;5;241m.\u001b[39mrender()\n",
      "File \u001b[1;32mc:\\python\\python39\\lib\\site-packages\\stable_baselines3\\common\\vec_env\\base_vec_env.py:162\u001b[0m, in \u001b[0;36mVecEnv.step\u001b[1;34m(self, actions)\u001b[0m\n\u001b[0;32m    155\u001b[0m \u001b[38;5;250m\u001b[39m\u001b[38;5;124;03m\"\"\"\u001b[39;00m\n\u001b[0;32m    156\u001b[0m \u001b[38;5;124;03mStep the environments with the given action\u001b[39;00m\n\u001b[0;32m    157\u001b[0m \n\u001b[0;32m    158\u001b[0m \u001b[38;5;124;03m:param actions: the action\u001b[39;00m\n\u001b[0;32m    159\u001b[0m \u001b[38;5;124;03m:return: observation, reward, done, information\u001b[39;00m\n\u001b[0;32m    160\u001b[0m \u001b[38;5;124;03m\"\"\"\u001b[39;00m\n\u001b[0;32m    161\u001b[0m \u001b[38;5;28mself\u001b[39m\u001b[38;5;241m.\u001b[39mstep_async(actions)\n\u001b[1;32m--> 162\u001b[0m \u001b[38;5;28;01mreturn\u001b[39;00m \u001b[38;5;28;43mself\u001b[39;49m\u001b[38;5;241;43m.\u001b[39;49m\u001b[43mstep_wait\u001b[49m\u001b[43m(\u001b[49m\u001b[43m)\u001b[49m\n",
      "File \u001b[1;32mc:\\python\\python39\\lib\\site-packages\\stable_baselines3\\common\\vec_env\\vec_frame_stack.py:48\u001b[0m, in \u001b[0;36mVecFrameStack.step_wait\u001b[1;34m(self)\u001b[0m\n\u001b[0;32m     44\u001b[0m \u001b[38;5;28;01mdef\u001b[39;00m \u001b[38;5;21mstep_wait\u001b[39m(\n\u001b[0;32m     45\u001b[0m     \u001b[38;5;28mself\u001b[39m,\n\u001b[0;32m     46\u001b[0m ) \u001b[38;5;241m-\u001b[39m\u001b[38;5;241m>\u001b[39m Tuple[Union[np\u001b[38;5;241m.\u001b[39mndarray, Dict[\u001b[38;5;28mstr\u001b[39m, np\u001b[38;5;241m.\u001b[39mndarray]], np\u001b[38;5;241m.\u001b[39mndarray, np\u001b[38;5;241m.\u001b[39mndarray, List[Dict[\u001b[38;5;28mstr\u001b[39m, Any]],]:\n\u001b[1;32m---> 48\u001b[0m     observations, rewards, dones, infos \u001b[38;5;241m=\u001b[39m \u001b[38;5;28;43mself\u001b[39;49m\u001b[38;5;241;43m.\u001b[39;49m\u001b[43mvenv\u001b[49m\u001b[38;5;241;43m.\u001b[39;49m\u001b[43mstep_wait\u001b[49m\u001b[43m(\u001b[49m\u001b[43m)\u001b[49m\n\u001b[0;32m     50\u001b[0m     observations, infos \u001b[38;5;241m=\u001b[39m \u001b[38;5;28mself\u001b[39m\u001b[38;5;241m.\u001b[39mstackedobs\u001b[38;5;241m.\u001b[39mupdate(observations, dones, infos)\n\u001b[0;32m     52\u001b[0m     \u001b[38;5;28;01mreturn\u001b[39;00m observations, rewards, dones, infos\n",
      "File \u001b[1;32mc:\\python\\python39\\lib\\site-packages\\stable_baselines3\\common\\vec_env\\dummy_vec_env.py:43\u001b[0m, in \u001b[0;36mDummyVecEnv.step_wait\u001b[1;34m(self)\u001b[0m\n\u001b[0;32m     41\u001b[0m \u001b[38;5;28;01mdef\u001b[39;00m \u001b[38;5;21mstep_wait\u001b[39m(\u001b[38;5;28mself\u001b[39m) \u001b[38;5;241m-\u001b[39m\u001b[38;5;241m>\u001b[39m VecEnvStepReturn:\n\u001b[0;32m     42\u001b[0m     \u001b[38;5;28;01mfor\u001b[39;00m env_idx \u001b[38;5;129;01min\u001b[39;00m \u001b[38;5;28mrange\u001b[39m(\u001b[38;5;28mself\u001b[39m\u001b[38;5;241m.\u001b[39mnum_envs):\n\u001b[1;32m---> 43\u001b[0m         obs, \u001b[38;5;28mself\u001b[39m\u001b[38;5;241m.\u001b[39mbuf_rews[env_idx], \u001b[38;5;28mself\u001b[39m\u001b[38;5;241m.\u001b[39mbuf_dones[env_idx], \u001b[38;5;28mself\u001b[39m\u001b[38;5;241m.\u001b[39mbuf_infos[env_idx] \u001b[38;5;241m=\u001b[39m \u001b[38;5;28;43mself\u001b[39;49m\u001b[38;5;241;43m.\u001b[39;49m\u001b[43menvs\u001b[49m\u001b[43m[\u001b[49m\u001b[43menv_idx\u001b[49m\u001b[43m]\u001b[49m\u001b[38;5;241;43m.\u001b[39;49m\u001b[43mstep\u001b[49m\u001b[43m(\u001b[49m\n\u001b[0;32m     44\u001b[0m \u001b[43m            \u001b[49m\u001b[38;5;28;43mself\u001b[39;49m\u001b[38;5;241;43m.\u001b[39;49m\u001b[43mactions\u001b[49m\u001b[43m[\u001b[49m\u001b[43menv_idx\u001b[49m\u001b[43m]\u001b[49m\n\u001b[0;32m     45\u001b[0m \u001b[43m        \u001b[49m\u001b[43m)\u001b[49m\n\u001b[0;32m     46\u001b[0m         \u001b[38;5;28;01mif\u001b[39;00m \u001b[38;5;28mself\u001b[39m\u001b[38;5;241m.\u001b[39mbuf_dones[env_idx]:\n\u001b[0;32m     47\u001b[0m             \u001b[38;5;66;03m# save final observation where user can get it, then reset\u001b[39;00m\n\u001b[0;32m     48\u001b[0m             \u001b[38;5;28mself\u001b[39m\u001b[38;5;241m.\u001b[39mbuf_infos[env_idx][\u001b[38;5;124m\"\u001b[39m\u001b[38;5;124mterminal_observation\u001b[39m\u001b[38;5;124m\"\u001b[39m] \u001b[38;5;241m=\u001b[39m obs\n",
      "File \u001b[1;32mc:\\python\\python39\\lib\\site-packages\\gym\\core.py:268\u001b[0m, in \u001b[0;36mObservationWrapper.step\u001b[1;34m(self, action)\u001b[0m\n\u001b[0;32m    267\u001b[0m \u001b[38;5;28;01mdef\u001b[39;00m \u001b[38;5;21mstep\u001b[39m(\u001b[38;5;28mself\u001b[39m, action):\n\u001b[1;32m--> 268\u001b[0m     observation, reward, done, info \u001b[38;5;241m=\u001b[39m \u001b[38;5;28;43mself\u001b[39;49m\u001b[38;5;241;43m.\u001b[39;49m\u001b[43menv\u001b[49m\u001b[38;5;241;43m.\u001b[39;49m\u001b[43mstep\u001b[49m\u001b[43m(\u001b[49m\u001b[43maction\u001b[49m\u001b[43m)\u001b[49m\n\u001b[0;32m    269\u001b[0m     \u001b[38;5;28;01mreturn\u001b[39;00m \u001b[38;5;28mself\u001b[39m\u001b[38;5;241m.\u001b[39mobservation(observation), reward, done, info\n",
      "File \u001b[1;32mc:\\python\\python39\\lib\\site-packages\\nes_py\\wrappers\\joypad_space.py:74\u001b[0m, in \u001b[0;36mJoypadSpace.step\u001b[1;34m(self, action)\u001b[0m\n\u001b[0;32m     59\u001b[0m \u001b[38;5;250m\u001b[39m\u001b[38;5;124;03m\"\"\"\u001b[39;00m\n\u001b[0;32m     60\u001b[0m \u001b[38;5;124;03mTake a step using the given action.\u001b[39;00m\n\u001b[0;32m     61\u001b[0m \n\u001b[1;32m   (...)\u001b[0m\n\u001b[0;32m     71\u001b[0m \n\u001b[0;32m     72\u001b[0m \u001b[38;5;124;03m\"\"\"\u001b[39;00m\n\u001b[0;32m     73\u001b[0m \u001b[38;5;66;03m# take the step and record the output\u001b[39;00m\n\u001b[1;32m---> 74\u001b[0m \u001b[38;5;28;01mreturn\u001b[39;00m \u001b[38;5;28;43mself\u001b[39;49m\u001b[38;5;241;43m.\u001b[39;49m\u001b[43menv\u001b[49m\u001b[38;5;241;43m.\u001b[39;49m\u001b[43mstep\u001b[49m\u001b[43m(\u001b[49m\u001b[38;5;28;43mself\u001b[39;49m\u001b[38;5;241;43m.\u001b[39;49m\u001b[43m_action_map\u001b[49m\u001b[43m[\u001b[49m\u001b[43maction\u001b[49m\u001b[43m]\u001b[49m\u001b[43m)\u001b[49m\n",
      "File \u001b[1;32mc:\\python\\python39\\lib\\site-packages\\gym\\wrappers\\time_limit.py:16\u001b[0m, in \u001b[0;36mTimeLimit.step\u001b[1;34m(self, action)\u001b[0m\n\u001b[0;32m     14\u001b[0m \u001b[38;5;28;01mdef\u001b[39;00m \u001b[38;5;21mstep\u001b[39m(\u001b[38;5;28mself\u001b[39m, action):\n\u001b[0;32m     15\u001b[0m     \u001b[38;5;28;01massert\u001b[39;00m \u001b[38;5;28mself\u001b[39m\u001b[38;5;241m.\u001b[39m_elapsed_steps \u001b[38;5;129;01mis\u001b[39;00m \u001b[38;5;129;01mnot\u001b[39;00m \u001b[38;5;28;01mNone\u001b[39;00m, \u001b[38;5;124m\"\u001b[39m\u001b[38;5;124mCannot call env.step() before calling reset()\u001b[39m\u001b[38;5;124m\"\u001b[39m\n\u001b[1;32m---> 16\u001b[0m     observation, reward, done, info \u001b[38;5;241m=\u001b[39m \u001b[38;5;28;43mself\u001b[39;49m\u001b[38;5;241;43m.\u001b[39;49m\u001b[43menv\u001b[49m\u001b[38;5;241;43m.\u001b[39;49m\u001b[43mstep\u001b[49m\u001b[43m(\u001b[49m\u001b[43maction\u001b[49m\u001b[43m)\u001b[49m\n\u001b[0;32m     17\u001b[0m     \u001b[38;5;28mself\u001b[39m\u001b[38;5;241m.\u001b[39m_elapsed_steps \u001b[38;5;241m+\u001b[39m\u001b[38;5;241m=\u001b[39m \u001b[38;5;241m1\u001b[39m\n\u001b[0;32m     18\u001b[0m     \u001b[38;5;28;01mif\u001b[39;00m \u001b[38;5;28mself\u001b[39m\u001b[38;5;241m.\u001b[39m_elapsed_steps \u001b[38;5;241m>\u001b[39m\u001b[38;5;241m=\u001b[39m \u001b[38;5;28mself\u001b[39m\u001b[38;5;241m.\u001b[39m_max_episode_steps:\n",
      "File \u001b[1;32mc:\\python\\python39\\lib\\site-packages\\nes_py\\nes_env.py:300\u001b[0m, in \u001b[0;36mNESEnv.step\u001b[1;34m(self, action)\u001b[0m\n\u001b[0;32m    298\u001b[0m \u001b[38;5;28mself\u001b[39m\u001b[38;5;241m.\u001b[39mcontrollers[\u001b[38;5;241m0\u001b[39m][:] \u001b[38;5;241m=\u001b[39m action\n\u001b[0;32m    299\u001b[0m \u001b[38;5;66;03m# pass the action to the emulator as an unsigned byte\u001b[39;00m\n\u001b[1;32m--> 300\u001b[0m \u001b[43m_LIB\u001b[49m\u001b[38;5;241;43m.\u001b[39;49m\u001b[43mStep\u001b[49m\u001b[43m(\u001b[49m\u001b[38;5;28;43mself\u001b[39;49m\u001b[38;5;241;43m.\u001b[39;49m\u001b[43m_env\u001b[49m\u001b[43m)\u001b[49m\n\u001b[0;32m    301\u001b[0m \u001b[38;5;66;03m# get the reward for this step\u001b[39;00m\n\u001b[0;32m    302\u001b[0m reward \u001b[38;5;241m=\u001b[39m \u001b[38;5;28mfloat\u001b[39m(\u001b[38;5;28mself\u001b[39m\u001b[38;5;241m.\u001b[39m_get_reward())\n",
      "\u001b[1;31mKeyboardInterrupt\u001b[0m: "
     ]
    }
   ],
   "source": [
    "#start the game\n",
    "state=env.reset()\n",
    "#loop thorugh the game\n",
    "while True:\n",
    "    action,_=model.predict(state)  #the model will predict and return a number corresponding to the move to be taken in SIMPLE_MOVEMENT\n",
    "    #and it will return another value and i dnt know wt it is and it is not important \n",
    "    state,reward,done,info=env.step(action)  #the action to be taken is sent to the env.step which will change the frame by taking that predicted step\n",
    "    env.render()"
   ]
  },
  {
   "cell_type": "code",
   "execution_count": 29,
   "id": "27136e21",
   "metadata": {},
   "outputs": [],
   "source": [
    "env.close()"
   ]
  },
  {
   "cell_type": "code",
   "execution_count": null,
   "id": "26a046f4",
   "metadata": {},
   "outputs": [],
   "source": []
  }
 ],
 "metadata": {
  "kernelspec": {
   "display_name": "Python 3 (ipykernel)",
   "language": "python",
   "name": "python3"
  },
  "language_info": {
   "codemirror_mode": {
    "name": "ipython",
    "version": 3
   },
   "file_extension": ".py",
   "mimetype": "text/x-python",
   "name": "python",
   "nbconvert_exporter": "python",
   "pygments_lexer": "ipython3",
   "version": "3.9.0"
  }
 },
 "nbformat": 4,
 "nbformat_minor": 5
}
